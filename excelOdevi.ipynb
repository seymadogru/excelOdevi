{
 "cells": [
  {
   "cell_type": "code",
   "execution_count": 3,
   "id": "238c69f0",
   "metadata": {},
   "outputs": [],
   "source": [
    "import pandas as pd\n",
    "import numpy as np\n",
    "import seaborn as sns\n",
    "import matplotlib.pyplot as plt\n",
    "import warnings\n",
    "\n",
    "warnings.filterwarnings('ignore')\n",
    "df = pd.read_csv('proje.csv')"
   ]
  },
  {
   "cell_type": "code",
   "execution_count": 4,
   "id": "1eb41c85",
   "metadata": {},
   "outputs": [
    {
     "data": {
      "text/html": [
       "<div>\n",
       "<style scoped>\n",
       "    .dataframe tbody tr th:only-of-type {\n",
       "        vertical-align: middle;\n",
       "    }\n",
       "\n",
       "    .dataframe tbody tr th {\n",
       "        vertical-align: top;\n",
       "    }\n",
       "\n",
       "    .dataframe thead th {\n",
       "        text-align: right;\n",
       "    }\n",
       "</style>\n",
       "<table border=\"1\" class=\"dataframe\">\n",
       "  <thead>\n",
       "    <tr style=\"text-align: right;\">\n",
       "      <th></th>\n",
       "      <th>Adı</th>\n",
       "      <th>Departman</th>\n",
       "      <th>Yas</th>\n",
       "      <th>DogumYeri</th>\n",
       "    </tr>\n",
       "  </thead>\n",
       "  <tbody>\n",
       "    <tr>\n",
       "      <th>0</th>\n",
       "      <td>Ali</td>\n",
       "      <td>IT</td>\n",
       "      <td>35</td>\n",
       "      <td>Bursa</td>\n",
       "    </tr>\n",
       "    <tr>\n",
       "      <th>1</th>\n",
       "      <td>Ayşe</td>\n",
       "      <td>Pazarlama</td>\n",
       "      <td>40</td>\n",
       "      <td>Ankara</td>\n",
       "    </tr>\n",
       "    <tr>\n",
       "      <th>2</th>\n",
       "      <td>Can</td>\n",
       "      <td>Pazarlama</td>\n",
       "      <td>24</td>\n",
       "      <td>Ankara</td>\n",
       "    </tr>\n",
       "    <tr>\n",
       "      <th>3</th>\n",
       "      <td>Selin</td>\n",
       "      <td>IT</td>\n",
       "      <td>32</td>\n",
       "      <td>Eskişehir</td>\n",
       "    </tr>\n",
       "    <tr>\n",
       "      <th>4</th>\n",
       "      <td>Mert</td>\n",
       "      <td>IT</td>\n",
       "      <td>42</td>\n",
       "      <td>Kocaeli</td>\n",
       "    </tr>\n",
       "  </tbody>\n",
       "</table>\n",
       "</div>"
      ],
      "text/plain": [
       "     Adı  Departman  Yas  DogumYeri\n",
       "0    Ali         IT   35      Bursa\n",
       "1   Ayşe  Pazarlama   40     Ankara\n",
       "2    Can  Pazarlama   24     Ankara\n",
       "3  Selin         IT   32  Eskişehir\n",
       "4   Mert         IT   42    Kocaeli"
      ]
     },
     "execution_count": 4,
     "metadata": {},
     "output_type": "execute_result"
    }
   ],
   "source": [
    "df.head()"
   ]
  },
  {
   "cell_type": "code",
   "execution_count": 8,
   "id": "89c9c420",
   "metadata": {},
   "outputs": [
    {
     "data": {
      "text/plain": [
       "Index(['Adı', 'Departman', 'Yas', 'DogumYeri'], dtype='object')"
      ]
     },
     "execution_count": 8,
     "metadata": {},
     "output_type": "execute_result"
    }
   ],
   "source": [
    "df.columns"
   ]
  },
  {
   "cell_type": "code",
   "execution_count": 9,
   "id": "51a5ea7e",
   "metadata": {},
   "outputs": [
    {
     "data": {
      "text/plain": [
       "(6, 4)"
      ]
     },
     "execution_count": 9,
     "metadata": {},
     "output_type": "execute_result"
    }
   ],
   "source": [
    "df.shape"
   ]
  },
  {
   "cell_type": "code",
   "execution_count": 10,
   "id": "42b58828",
   "metadata": {},
   "outputs": [
    {
     "data": {
      "text/plain": [
       "0           IT\n",
       "1    Pazarlama\n",
       "2    Pazarlama\n",
       "3           IT\n",
       "4           IT\n",
       "5    Pazarlama\n",
       "Name: Departman, dtype: object"
      ]
     },
     "execution_count": 10,
     "metadata": {},
     "output_type": "execute_result"
    }
   ],
   "source": [
    "df['Departman']"
   ]
  },
  {
   "cell_type": "code",
   "execution_count": 12,
   "id": "05089b9b",
   "metadata": {},
   "outputs": [
    {
     "data": {
      "text/plain": [
       "array(['IT', 'Pazarlama'], dtype=object)"
      ]
     },
     "execution_count": 12,
     "metadata": {},
     "output_type": "execute_result"
    }
   ],
   "source": [
    "df.Departman.unique()"
   ]
  },
  {
   "cell_type": "code",
   "execution_count": 15,
   "id": "3675710c",
   "metadata": {},
   "outputs": [
    {
     "data": {
      "text/plain": [
       "Adı          object\n",
       "Departman    object\n",
       "Yas           int64\n",
       "DogumYeri    object\n",
       "dtype: object"
      ]
     },
     "execution_count": 15,
     "metadata": {},
     "output_type": "execute_result"
    }
   ],
   "source": [
    "df.dtypes"
   ]
  },
  {
   "cell_type": "code",
   "execution_count": 16,
   "id": "91ccb01b",
   "metadata": {},
   "outputs": [
    {
     "data": {
      "text/plain": [
       "Yas    33.5\n",
       "dtype: float64"
      ]
     },
     "execution_count": 16,
     "metadata": {},
     "output_type": "execute_result"
    }
   ],
   "source": [
    "df.mean()"
   ]
  },
  {
   "cell_type": "code",
   "execution_count": null,
   "id": "3c4385c8",
   "metadata": {},
   "outputs": [],
   "source": []
  }
 ],
 "metadata": {
  "kernelspec": {
   "display_name": "Python 3",
   "language": "python",
   "name": "python3"
  },
  "language_info": {
   "codemirror_mode": {
    "name": "ipython",
    "version": 3
   },
   "file_extension": ".py",
   "mimetype": "text/x-python",
   "name": "python",
   "nbconvert_exporter": "python",
   "pygments_lexer": "ipython3",
   "version": "3.8.8"
  }
 },
 "nbformat": 4,
 "nbformat_minor": 5
}
